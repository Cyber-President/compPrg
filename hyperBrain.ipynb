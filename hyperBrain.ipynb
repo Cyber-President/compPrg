{
 "cells": [
  {
   "cell_type": "code",
   "execution_count": 1,
   "metadata": {
    "collapsed": true
   },
   "outputs": [],
   "source": [
    "nums = [3, 2, 4]\n",
    "target = 6\n",
    "\n",
    "nums_sort = sorted(nums)\n",
    "beforeNum = 0\n",
    "answer = []\n",
    "for i in nums_sort:\n",
    "    if i < target:\n",
    "        if i + beforeNum == target:\n",
    "            index = nums.index(beforeNum)\n",
    "            answer.append(index)\n",
    "            answer.append(index + 1)\n",
    "        else:\n",
    "            beforeNum = i"
   ]
  }
 ],
 "metadata": {
  "kernelspec": {
   "display_name": "Python 3",
   "language": "python",
   "name": "python3"
  },
  "language_info": {
   "codemirror_mode": {
    "name": "ipython",
    "version": 2
   },
   "file_extension": ".py",
   "mimetype": "text/x-python",
   "name": "python",
   "nbconvert_exporter": "python",
   "pygments_lexer": "ipython2",
   "version": "2.7.6"
  }
 },
 "nbformat": 4,
 "nbformat_minor": 0
}